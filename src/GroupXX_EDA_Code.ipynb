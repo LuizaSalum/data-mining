{
 "cells": [
  {
   "cell_type": "code",
   "execution_count": 1,
   "id": "57d4b2fb",
   "metadata": {},
   "outputs": [],
   "source": [
    "import matplotlib.pyplot as plt\n",
    "import numpy as np\n",
    "import os\n",
    "import pandas as pd\n",
    "from pandas import DataFrame\n",
    "import seaborn as sns\n",
    "\n",
    "\n",
    "# for better resolution plots\n",
    "# %config InlineBackend.figure_format = 'retina' # optionally, you can change 'svg' to 'retina'\n",
    "\n",
    "# Seeting seaborn style\n",
    "sns.set_theme()"
   ]
  },
  {
   "cell_type": "code",
   "execution_count": null,
   "id": "b4de0658",
   "metadata": {},
   "outputs": [
    {
     "name": "stdout",
     "output_type": "stream",
     "text": [
      "Index(['Unnamed: 0', 'LoyaltyNum', 'First Name', 'Last Name', 'Customer Name',\n",
      "       'Country', 'Province or State', 'City', 'Latitude', 'Longitude',\n",
      "       'Postal code', 'Gender', 'Education', 'Location Code', 'Income',\n",
      "       'Marital Status', 'LoyaltyStatus', 'EnrollmentDateOpening',\n",
      "       'CancellationDate', 'Customer Lifetime Value', 'EnrollmentType'],\n",
      "      dtype='object')\n",
      "0\n",
      "2903\n"
     ]
    }
   ],
   "source": [
    "path = \"\"\n",
    "\n",
    "dataCustomer: DataFrame = pd.read_csv(path + \"data/DM_AIAI_CustomerDB.csv\")\n",
    "dataFlights: DataFrame = pd.read_csv(path + \"data/DM_AIAI_FlightsDB.csv\")\n",
    "\n",
    "print(dataCustomer.columns)\n",
    "\n",
    "# print(dataCustomer.duplicated().sum())\n",
    "# print(dataFlights.duplicated().sum())\n",
    "\n",
    "dataCustomer = dataCustomer.set_index(\"Loyalty#\")\n",
    "dataFlights = dataFlights.set_index(\"Loyalty#\")\n",
    "\n",
    "dataFinal = dataCustomer.join(dataFlights, \"Loyalty#\")"
   ]
  }
 ],
 "metadata": {
  "kernelspec": {
   "display_name": ".venv",
   "language": "python",
   "name": "python3"
  },
  "language_info": {
   "codemirror_mode": {
    "name": "ipython",
    "version": 3
   },
   "file_extension": ".py",
   "mimetype": "text/x-python",
   "name": "python",
   "nbconvert_exporter": "python",
   "pygments_lexer": "ipython3",
   "version": "3.13.7"
  }
 },
 "nbformat": 4,
 "nbformat_minor": 5
}
